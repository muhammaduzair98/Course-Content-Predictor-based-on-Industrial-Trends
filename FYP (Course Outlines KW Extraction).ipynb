{
 "cells": [
  {
   "cell_type": "code",
   "execution_count": 80,
   "metadata": {},
   "outputs": [],
   "source": [
    "import pandas as pd \n",
    "import numpy as np\n",
    "import re\n",
    "import nltk\n",
    "\n",
    "from nltk.corpus import stopwords\n",
    "from nltk.stem.porter import PorterStemmer\n",
    "from nltk.stem import WordNetLemmatizer\n",
    "\n",
    "dataset = pd.read_csv(\"./Desktop/FYP/nu_course_outlines.csv\")"
   ]
  },
  {
   "cell_type": "code",
   "execution_count": 81,
   "metadata": {},
   "outputs": [
    {
     "name": "stdout",
     "output_type": "stream",
     "text": [
      "                               Title           Credit Hour  \\\n",
      "0  Introduction to Computing (CS101)  Credit Hours:  3 + 1   \n",
      "\n",
      "                    level                                 Equivalent Courses  \\\n",
      "0  Course Level: Freshman  Equivalent Courses: Computer Applications (CS1...   \n",
      "\n",
      "                                            outlines  \n",
      "0   Introduction to computer and its applications...  \n"
     ]
    }
   ],
   "source": [
    "type(dataset.values)\n",
    "corpus = dataset.head(1)\n",
    "print(corpus)"
   ]
  },
  {
   "cell_type": "code",
   "execution_count": 82,
   "metadata": {},
   "outputs": [
    {
     "data": {
      "text/plain": [
       "pandas.core.series.Series"
      ]
     },
     "execution_count": 82,
     "metadata": {},
     "output_type": "execute_result"
    }
   ],
   "source": [
    "course_outlines = dataset[\"outlines\"]\n",
    "type(course_outlines)"
   ]
  },
  {
   "cell_type": "code",
   "execution_count": 72,
   "metadata": {},
   "outputs": [],
   "source": [
    "#Import Lib & Creating Objects\n",
    "import re\n",
    "import nltk\n",
    "\n",
    "from nltk.corpus import stopwords\n",
    "from nltk.stem.porter import PorterStemmer\n",
    "from nltk.stem import WordNetLemmatizer\n",
    "\n",
    "data = []\n",
    "\n",
    "lemmatizer = WordNetLemmatizer()\n",
    "ps = PorterStemmer()"
   ]
  },
  {
   "cell_type": "code",
   "execution_count": 73,
   "metadata": {},
   "outputs": [
    {
     "data": {
      "text/plain": [
       "str"
      ]
     },
     "execution_count": 73,
     "metadata": {},
     "output_type": "execute_result"
    }
   ],
   "source": [
    "CO= str(course_outlines)\n",
    "type(CO)"
   ]
  },
  {
   "cell_type": "code",
   "execution_count": 78,
   "metadata": {},
   "outputs": [
    {
     "ename": "TypeError",
     "evalue": "expected string or bytes-like object",
     "output_type": "error",
     "traceback": [
      "\u001b[0;31m---------------------------------------------------------------------------\u001b[0m",
      "\u001b[0;31mTypeError\u001b[0m                                 Traceback (most recent call last)",
      "\u001b[0;32m<ipython-input-78-ecb27e1c0767>\u001b[0m in \u001b[0;36m<module>\u001b[0;34m\u001b[0m\n\u001b[1;32m      1\u001b[0m \u001b[0;31m#Cleaning Course Outlines\u001b[0m\u001b[0;34m\u001b[0m\u001b[0;34m\u001b[0m\u001b[0;34m\u001b[0m\u001b[0m\n\u001b[1;32m      2\u001b[0m \u001b[0;32mfor\u001b[0m \u001b[0mi\u001b[0m \u001b[0;32min\u001b[0m \u001b[0mrange\u001b[0m\u001b[0;34m(\u001b[0m\u001b[0;36m0\u001b[0m\u001b[0;34m,\u001b[0m \u001b[0mlen\u001b[0m\u001b[0;34m(\u001b[0m\u001b[0mcourse_outlines\u001b[0m\u001b[0;34m)\u001b[0m\u001b[0;34m)\u001b[0m\u001b[0;34m:\u001b[0m\u001b[0;34m\u001b[0m\u001b[0;34m\u001b[0m\u001b[0m\n\u001b[0;32m----> 3\u001b[0;31m     \u001b[0mreview\u001b[0m \u001b[0;34m=\u001b[0m \u001b[0mre\u001b[0m\u001b[0;34m.\u001b[0m\u001b[0msub\u001b[0m\u001b[0;34m(\u001b[0m\u001b[0;34m'[^a-zA-Z]'\u001b[0m\u001b[0;34m,\u001b[0m \u001b[0;34m' '\u001b[0m\u001b[0;34m,\u001b[0m \u001b[0mdataset\u001b[0m\u001b[0;34m[\u001b[0m\u001b[0;34m\"outlines\"\u001b[0m\u001b[0;34m]\u001b[0m\u001b[0;34m[\u001b[0m\u001b[0mi\u001b[0m\u001b[0;34m]\u001b[0m\u001b[0;34m)\u001b[0m\u001b[0;34m\u001b[0m\u001b[0;34m\u001b[0m\u001b[0m\n\u001b[0m\u001b[1;32m      4\u001b[0m     \u001b[0mreview\u001b[0m \u001b[0;34m=\u001b[0m \u001b[0mreview\u001b[0m\u001b[0;34m.\u001b[0m\u001b[0mlower\u001b[0m\u001b[0;34m(\u001b[0m\u001b[0;34m)\u001b[0m\u001b[0;34m\u001b[0m\u001b[0;34m\u001b[0m\u001b[0m\n\u001b[1;32m      5\u001b[0m     \u001b[0mreview\u001b[0m \u001b[0;34m=\u001b[0m \u001b[0mreview\u001b[0m\u001b[0;34m.\u001b[0m\u001b[0msplit\u001b[0m\u001b[0;34m(\u001b[0m\u001b[0;34m)\u001b[0m\u001b[0;34m\u001b[0m\u001b[0;34m\u001b[0m\u001b[0m\n",
      "\u001b[0;32m~/opt/anaconda3/lib/python3.7/re.py\u001b[0m in \u001b[0;36msub\u001b[0;34m(pattern, repl, string, count, flags)\u001b[0m\n\u001b[1;32m    192\u001b[0m     \u001b[0ma\u001b[0m \u001b[0mcallable\u001b[0m\u001b[0;34m,\u001b[0m \u001b[0mit\u001b[0m\u001b[0;31m'\u001b[0m\u001b[0ms\u001b[0m \u001b[0mpassed\u001b[0m \u001b[0mthe\u001b[0m \u001b[0mMatch\u001b[0m \u001b[0mobject\u001b[0m \u001b[0;32mand\u001b[0m \u001b[0mmust\u001b[0m \u001b[0;32mreturn\u001b[0m\u001b[0;34m\u001b[0m\u001b[0;34m\u001b[0m\u001b[0m\n\u001b[1;32m    193\u001b[0m     a replacement string to be used.\"\"\"\n\u001b[0;32m--> 194\u001b[0;31m     \u001b[0;32mreturn\u001b[0m \u001b[0m_compile\u001b[0m\u001b[0;34m(\u001b[0m\u001b[0mpattern\u001b[0m\u001b[0;34m,\u001b[0m \u001b[0mflags\u001b[0m\u001b[0;34m)\u001b[0m\u001b[0;34m.\u001b[0m\u001b[0msub\u001b[0m\u001b[0;34m(\u001b[0m\u001b[0mrepl\u001b[0m\u001b[0;34m,\u001b[0m \u001b[0mstring\u001b[0m\u001b[0;34m,\u001b[0m \u001b[0mcount\u001b[0m\u001b[0;34m)\u001b[0m\u001b[0;34m\u001b[0m\u001b[0;34m\u001b[0m\u001b[0m\n\u001b[0m\u001b[1;32m    195\u001b[0m \u001b[0;34m\u001b[0m\u001b[0m\n\u001b[1;32m    196\u001b[0m \u001b[0;32mdef\u001b[0m \u001b[0msubn\u001b[0m\u001b[0;34m(\u001b[0m\u001b[0mpattern\u001b[0m\u001b[0;34m,\u001b[0m \u001b[0mrepl\u001b[0m\u001b[0;34m,\u001b[0m \u001b[0mstring\u001b[0m\u001b[0;34m,\u001b[0m \u001b[0mcount\u001b[0m\u001b[0;34m=\u001b[0m\u001b[0;36m0\u001b[0m\u001b[0;34m,\u001b[0m \u001b[0mflags\u001b[0m\u001b[0;34m=\u001b[0m\u001b[0;36m0\u001b[0m\u001b[0;34m)\u001b[0m\u001b[0;34m:\u001b[0m\u001b[0;34m\u001b[0m\u001b[0;34m\u001b[0m\u001b[0m\n",
      "\u001b[0;31mTypeError\u001b[0m: expected string or bytes-like object"
     ]
    }
   ],
   "source": [
    "#Cleaning Course Outlines\n",
    "for i in range(0, len(course_outlines)):\n",
    "    review = re.sub('[^a-zA-Z]', ' ', dataset[\"outlines\"][i])\n",
    "    review = review.lower()\n",
    "    review = review.split()\n",
    "    review = [lemmatizer.lemmatize(word) \n",
    "               for word in review \n",
    "                  if not word in stopwords.words('english')]\n",
    "    review = ' '.join(review)\n",
    "    #print (type(review))\n",
    "    data.append(review)   "
   ]
  },
  {
   "cell_type": "code",
   "execution_count": 66,
   "metadata": {},
   "outputs": [
    {
     "name": "stdout",
     "output_type": "stream",
     "text": [
      "<class 'list'>\n",
      "['', '', '', '', '', '', '', '', '', 'n', '', 'r', '', '', 'u', 'c', '', '', '', 'n', '', '', '', '', 'c', '', '', 'p', 'u', '', 'e', 'r', '', '', 'n', '', '', '', '', '', '', '', 'p', 'p', 'l', '', 'c', '', '', '', '', 'n', '', '', '', '', '', '', '', '', '', '', '', '', '', 'n', '', 'r', '', '', 'u', 'c', '', '', '', 'n', '', '', '', '', 'c', '', '', 'p', 'u', '', 'e', 'r', '', '', '', 'b', '', '', '', 'c', '', 'c', '', '', 'p', 'u', '', 'e', 'r', '', '', 'r', 'c', 'h', '', '', '', '', '', '', '', '', '', '', '', '', 'r', 'e', 'v', '', '', '', '', 'n', '', '', 'f', '', '', '', 'r', 'u', 'c', '', 'u', 'r', 'e', '', '', 'p', 'r', '', 'g', 'r', '', '', '', '', 'n', 'g', '', 'c', '', 'n', 'c', 'e', 'p', '', '', '', '', '', '', '', '', '', '', '', '', '', '', '', '', 'l', 'g', '', 'r', '', '', 'h', '', '', '', 'f', '', 'r', '', '', 'e', '', 'r', 'c', 'h', '', 'n', 'g', '', '', 'n', '', '', '', '', 'r', '', '', 'n', 'g', '', '', 'e', 'f', 'f', '', 'c', '', 'e', 'n', '', '', '', '', '', '', '', '', '', '', '', '', 'n', '', 'r', '', '', 'u', 'c', '', '', '', 'n', '', '', '', '', '', 'h', 'e', '', 'c', '', 'n', 'c', 'e', 'p', '', '', '', 'f', '', '', 'b', 'j', 'e', 'c', '', '', '', '', 'n', '', '', '', 'b', 'j', '', '', '', '', '', '', '', '', '', '', '', '', '', '', '', '', '', '', '', '', '', '', '', '', '', '', '', '', '', '', '', '', '', '', '', '', '', '', '', '', '', '', '', '', '', '', '', '', '', '', '', '', '', '', '', '', '', '', '', '', '', '', '', '', '', '', '', '', '', '', '', '', '', '', '', '', '', '', '', '', '', '', '', '', '', '', '', '', '', '', '', '', '', '', '', '', '', '', '', '', '', '', '', '', '', '', '', '', '', '', '', '', '', '', 'n', '', 'n', '', '', '', '', '', '', '', '', '', '', '', '', '', '', '', '', '', '', '', '', '', '', '', '', '', '', '', '', '', '', '', '', '', '', '', '', '', '', '', '', '', '', '', '', '', '', '', '', '', '', '', '', '', '', 'n', '', 'n', '', '', '', '', '', '', '', '', '', '', '', '', '', '', '', '', '', '', '', '', '', '', '', '', '', '', '', '', '', '', '', '', '', '', '', '', '', '', '', '', '', '', '', '', '', '', '', '', '', '', '', '', '', '', 'n', '', 'n', '', '', '', '', '', '', '', '', '', '', '', '', '', '', '', '', '', '', '', '', '', '', '', '', '', '', '', '', '', '', '', '', '', '', '', '', '', '', '', '', '', '', '', '', '', '', '', '', '', '', '', '', '', '', 'n', '', 'n', '', '', '', '', '', '', '', '', '', '', '', '', '', '', '', '', '', '', '', '', '', '', '', '', '', '', '', '', '', '', '', '', '', '', '', '', '', '', '', '', '', '', '', '', '', '', '', '', '', '', '', '', '', '', 'n', '', 'n', '', 'n', '', '', 'e', '', '', '', 'u', '', 'l', '', 'n', 'e', '', '', '', 'l', 'e', 'n', 'g', '', 'h', '', '', '', '', '', '', '', '', '', '', 'p', 'e', '', '', '', 'b', 'j', 'e', 'c', '', '', '', '', '', '', '', '', '', '', 'n', '', 'r', '', '', 'u', 'c', '', '', '', 'n', '', '', '', '', 'c', '', '', 'p', 'u', '', 'e', 'r', '', '', 'n', '', '', '', '', '', '', '', 'p', 'p', 'l', '', 'c', '', '', '', '', 'n', '', '', '', '', '', '', '', '', '', '', '', '', '', 'n', '', 'r', '', '', 'u', 'c', '', '', '', 'n', '', '', '', '', 'c', '', '', 'p', 'u', '', 'e', 'r', '', '', '', 'b', '', '', '', 'c', '', 'c', '', '', 'p', 'u', '', 'e', 'r', '', '', 'r', 'c', 'h', '', '', '', '', '', '', '', '', '', '', '', '', 'r', 'e', 'v', '', '', '', '', 'n', '', '', 'f', '', '', '', 'r', 'u', 'c', '', 'u', 'r', 'e', '', '', 'p', 'r', '', 'g', 'r', '', '', '', '', 'n', 'g', '', 'c', '', 'n', 'c', 'e', 'p', '', '', '', '', '', '', '', '', '', '', '', '', '', '', '', '', 'l', 'g', '', 'r', '', '', 'h', '', '', '', 'f', '', 'r', '', '', 'e', '', 'r', 'c', 'h', '', 'n', 'g', '', '', 'n', '', '', '', '', 'r', '', '', 'n', 'g', '', '', 'e', 'f', 'f', '', 'c', '', 'e', 'n', '', '', '', '', '', '', '', '', '', '', '', '', 'n', '', 'r', '', '', 'u', 'c', '', '', '', 'n', '', '', '', '', '', 'h', 'e', '', 'c', '', 'n', 'c', 'e', 'p', '', '', '', 'f', '', '', 'b', 'j', 'e', 'c', '', '', '', '', 'n', '', '', '', 'b', 'j', '', '', '', '', '', '', '', '', '', '', '', '', '', '', '', '', '', '', '', '', '', '', '', '', '', '', '', '', '', '', '', '', '', '', '', '', '', '', '', '', '', '', '', '', '', '', '', '', '', '', '', '', '', '', '', '', '', '', '', '', '', '', '', '', '', '', '', '', '', '', '', '', '', '', '', '', '', '', '', '', '', '', '', '', '', '', '', '', '', '', '', '', '', '', '', '', '', '', '', '', '', '', '', '', '', '', '', '', '', '', '', '', '', '', 'n', '', 'n', '', '', '', '', '', '', '', '', '', '', '', '', '', '', '', '', '', '', '', '', '', '', '', '', '', '', '', '', '', '', '', '', '', '', '', '', '', '', '', '', '', '', '', '', '', '', '', '', '', '', '', '', '', '', 'n', '', 'n', '', '', '', '', '', '', '', '', '', '', '', '', '', '', '', '', '', '', '', '', '', '', '', '', '', '', '', '', '', '', '', '', '', '', '', '', '', '', '', '', '', '', '', '', '', '', '', '', '', '', '', '', '', '', 'n', '', 'n', '', '', '', '', '', '', '', '', '', '', '', '', '', '', '', '', '', '', '', '', '', '', '', '', '', '', '', '', '', '', '', '', '', '', '', '', '', '', '', '', '', '', '', '', '', '', '', '', '', '', '', '', '', '', 'n', '', 'n', '', '', '', '', '', '', '', '', '', '', '', '', '', '', '', '', '', '', '', '', '', '', '', '', '', '', '', '', '', '', '', '', '', '', '', '', '', '', '', '', '', '', '', '', '', '', '', '', '', '', '', '', '', '', 'n', '', 'n', '', 'n', '', '', 'e', '', '', '', 'u', '', 'l', '', 'n', 'e', '', '', '', 'l', 'e', 'n', 'g', '', 'h', '', '', '', '', '', '', '', '', '', '', 'p', 'e', '', '', '', 'b', 'j', 'e', 'c', '']\n"
     ]
    }
   ],
   "source": [
    "#Printing Clean Data (Course Outlines)\n",
    "\n",
    "print(type(data))\n",
    "print(data)"
   ]
  },
  {
   "cell_type": "code",
   "execution_count": null,
   "metadata": {},
   "outputs": [],
   "source": [
    "#Yet Another Keyword Extractor - YAKE\n",
    "\n",
    "import yake\n",
    "\n",
    "\n",
    "#Keywords Extraction \n",
    "\n",
    "language = \"en\"\n",
    "max_ngram_size = 3\n",
    "deduplication_thresold = 0.9\n",
    "deduplication_algo = 'seqm'\n",
    "windowSize = 1\n",
    "numOfKeywords = 20\n",
    "\n",
    "all_keywords = []\n",
    "\n",
    "custom_kw_extractor = yake.KeywordExtractor(lan=language, n=max_ngram_size, dedupLim=deduplication_thresold, dedupFunc=deduplication_algo, windowsSize=windowSize, top=numOfKeywords, features=None)\n",
    "dic_kw = {}\n",
    "for i in range(len(new_dic)):\n",
    "    words = []\n",
    "    keywords = custom_kw_extractor.extract_keywords(new_dic[i])\n",
    "    for kw in keywords:\n",
    "           words.append(kw)\n",
    "    dic_kw[i] = words\n",
    "    #all_keywords.append(words)\n",
    "print(dic_kw[0])"
   ]
  },
  {
   "cell_type": "code",
   "execution_count": null,
   "metadata": {},
   "outputs": [],
   "source": [
    "#YAKE All Keywords Printing\n",
    "print (dic_kw[200])"
   ]
  },
  {
   "cell_type": "code",
   "execution_count": null,
   "metadata": {},
   "outputs": [],
   "source": [
    "def get_keywords(integer,data_list):\n",
    "    specific_data = data_list[integer]\n",
    "    for words in specific_data:\n",
    "        print(words)"
   ]
  },
  {
   "cell_type": "code",
   "execution_count": null,
   "metadata": {},
   "outputs": [],
   "source": [
    "get_keywords(4,dic_kw)"
   ]
  },
  {
   "cell_type": "code",
   "execution_count": null,
   "metadata": {},
   "outputs": [],
   "source": [
    "#Highlight Keywords in the Textual Data\n",
    "\n",
    "from yake.highlight import TextHighlighter\n",
    "\n",
    "th = TextHighlighter(max_ngram_size = 3)\n",
    "th.highlight(data[0], all_keywords[0])"
   ]
  }
 ],
 "metadata": {
  "kernelspec": {
   "display_name": "Python 3",
   "language": "python",
   "name": "python3"
  },
  "language_info": {
   "codemirror_mode": {
    "name": "ipython",
    "version": 3
   },
   "file_extension": ".py",
   "mimetype": "text/x-python",
   "name": "python",
   "nbconvert_exporter": "python",
   "pygments_lexer": "ipython3",
   "version": "3.7.9"
  }
 },
 "nbformat": 4,
 "nbformat_minor": 4
}
