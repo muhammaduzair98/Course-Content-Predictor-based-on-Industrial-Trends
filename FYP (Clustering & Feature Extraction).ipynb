{
 "cells": [
  {
   "cell_type": "code",
   "execution_count": 123,
   "metadata": {},
   "outputs": [],
   "source": [
    "import pandas as pd \n",
    "import numpy as np\n",
    "import re\n",
    "import nltk\n",
    "\n",
    "from nltk.corpus import stopwords\n",
    "from nltk.stem.porter import PorterStemmer\n",
    "from nltk.stem import WordNetLemmatizer\n",
    "\n",
    "dataset = pd.read_csv(\"./Desktop/FYP/testdata.csv\")"
   ]
  },
  {
   "cell_type": "code",
   "execution_count": 124,
   "metadata": {},
   "outputs": [],
   "source": [
    "type(dataset.values)\n",
    "corpus = dataset.head(1)\n",
    "#print(corpus)"
   ]
  },
  {
   "cell_type": "code",
   "execution_count": 126,
   "metadata": {},
   "outputs": [],
   "source": [
    "JD = dataset[\"jobdescription\"]\n",
    "corpus = \"\"\n",
    "for i in JD:\n",
    "    corpus += str(i)\n",
    "    #corpus.append(str(i))\n",
    "    #print (type(i))\n",
    "#corpus\n",
    "#print(type(JD))"
   ]
  },
  {
   "cell_type": "code",
   "execution_count": 127,
   "metadata": {},
   "outputs": [],
   "source": [
    "#Import Lib & Creating Objects\n",
    "import re\n",
    "import nltk\n",
    "\n",
    "from nltk.corpus import stopwords\n",
    "from nltk.stem.porter import PorterStemmer\n",
    "from nltk.stem import WordNetLemmatizer\n",
    "\n",
    "data = []\n",
    "\n",
    "lemmatizer = WordNetLemmatizer()\n",
    "ps = PorterStemmer()"
   ]
  },
  {
   "cell_type": "code",
   "execution_count": 77,
   "metadata": {},
   "outputs": [],
   "source": [
    "#Cleaning Dataset\n",
    "for i in range (0, len(JD)):\n",
    "    review = re.sub('[^a-zA-Z]', ' ', JD[i])\n",
    "    review = review.lower()\n",
    "    review = review.split()\n",
    "    review = [lemmatizer.lemmatize(word) \n",
    "               for word in review \n",
    "                  if not word in stopwords.words('english')]\n",
    "    review = ' '.join(review)\n",
    "    #print (type(review))\n",
    "    data.append(review)   "
   ]
  },
  {
   "cell_type": "code",
   "execution_count": 78,
   "metadata": {},
   "outputs": [
    {
     "name": "stdout",
     "output_type": "stream",
     "text": [
      "<class 'list'>\n"
     ]
    },
    {
     "data": {
      "text/plain": [
       "'u iar system world leading independent provider software programming processor embedded system software embedded workbench known ease use quality several world record benchmark performance used around customer develop product based bit processor mainly area industrial automation medical device consumer electronics automotive industry recently concept internet thing creating another huge potential market iar system corporate headquarters based sweden sale organization represented strong global presence local office california texas massachusetts usa japan south korea china germany france sweden market leader iar system always strives preferred choice talented competent employee manager industry company success also lie utilizing strength individual existing competency continuously promoting personal development well offering new challenge employee iar system software looking fill position account manager marlborough sale office candidate experience selling embedded software system unique opportunity right person join rapidly growing company today financially strong result market leading product service existing large loyal customer base excellent partnership within embedded system community account manager part u sale team reporting regional sale manager visiting customer site important part account manager responsibility account manager active member entire u sale marketing team combine effort help grow existing customer base meet exceed quarterly sale quota time increase customer satisfaction job definition sale responsible iar system product service eastern u consistently monitor work together iar system customer including customer visit develop update market strategy sale opportunity acquire new customer able perform iar company presentation customer maintain iar system global sale system date accurate information according company process policy monitor project execution assigned always presenting professional image team member within u sale marketing activity activity focus customer satisfaction quality operation reporting forecasting sale activity according system standard used within iar system profile hold education level b equivalent experience sale within embedded industry sale methodology know experience dealing customer technical knowledge key product compiler debugger rtos processor etc trend within embedded industry business minded sense business intelligence experienced user office product email addition key principle salesforce crm system process initial interview held marlborough office order attract keep talented staff iar system offer generous compensation benefit package designed meet demand global team iar system equal opportunity employer commitment success diversity encourage qualified individual apply get know iar system product please visit www iar com information position please contact recruitment department hr u iar comapply email hr u iar com mark application position sought'"
      ]
     },
     "execution_count": 78,
     "metadata": {},
     "output_type": "execute_result"
    }
   ],
   "source": [
    "#Printing Clean Data\n",
    "\n",
    "print(type(data))\n",
    "data[996]"
   ]
  },
  {
   "cell_type": "code",
   "execution_count": 79,
   "metadata": {},
   "outputs": [
    {
     "data": {
      "text/plain": [
       "<2999x25920 sparse matrix of type '<class 'numpy.float64'>'\n",
       "\twith 467426 stored elements in Compressed Sparse Row format>"
      ]
     },
     "execution_count": 79,
     "metadata": {},
     "output_type": "execute_result"
    }
   ],
   "source": [
    "#TF-IDF Vectorization\n",
    "\n",
    "from sklearn.feature_extraction.text import TfidfVectorizer\n",
    "tfidf = TfidfVectorizer()\n",
    "matrix_input = tfidf.fit_transform(data)\n",
    "matrix_input"
   ]
  },
  {
   "cell_type": "code",
   "execution_count": 80,
   "metadata": {},
   "outputs": [
    {
     "data": {
      "text/plain": [
       "array([[0., 0., 0., ..., 0., 0., 0.],\n",
       "       [0., 0., 0., ..., 0., 0., 0.],\n",
       "       [0., 0., 0., ..., 0., 0., 0.],\n",
       "       ...,\n",
       "       [0., 0., 0., ..., 0., 0., 0.],\n",
       "       [0., 0., 0., ..., 0., 0., 0.],\n",
       "       [0., 0., 0., ..., 0., 0., 0.]])"
      ]
     },
     "execution_count": 80,
     "metadata": {},
     "output_type": "execute_result"
    }
   ],
   "source": [
    "#Resultant Matrix Conversion Into Array Format\n",
    "\n",
    "X = matrix_input.toarray()\n",
    "X"
   ]
  },
  {
   "cell_type": "code",
   "execution_count": 81,
   "metadata": {},
   "outputs": [
    {
     "data": {
      "text/plain": [
       "MeanShift(bandwidth=1, bin_seeding=False, cluster_all=True, min_bin_freq=1,\n",
       "          n_jobs=None, seeds=None)"
      ]
     },
     "execution_count": 81,
     "metadata": {},
     "output_type": "execute_result"
    }
   ],
   "source": [
    "#Mean Shift Clustering\n",
    "\n",
    "from sklearn.cluster import MeanShift, estimate_bandwidth\n",
    "import numpy as np\n",
    "\n",
    "#bandwidth = estimate_bandwidth(X,quantile=1, n_samples=10)\n",
    "ms = MeanShift(bandwidth=1, bin_seeding=False).fit(X)\n",
    "ms"
   ]
  },
  {
   "cell_type": "code",
   "execution_count": 82,
   "metadata": {},
   "outputs": [
    {
     "data": {
      "text/plain": [
       "array([0, 0, 0, ..., 0, 0, 0])"
      ]
     },
     "execution_count": 82,
     "metadata": {},
     "output_type": "execute_result"
    }
   ],
   "source": [
    "#Cluster ID's\n",
    "\n",
    "ms.labels_"
   ]
  },
  {
   "cell_type": "code",
   "execution_count": 129,
   "metadata": {},
   "outputs": [
    {
     "data": {
      "text/plain": [
       "array([  0,   1,   2,   3,   4,   5,   6,   7,   8,   9,  10,  11,  12,\n",
       "        13,  14,  15,  16,  17,  18,  19,  20,  21,  22,  23,  24,  25,\n",
       "        26,  27,  28,  29,  30,  31,  32,  33,  34,  35,  36,  37,  38,\n",
       "        39,  40,  41,  42,  43,  44,  45,  46,  47,  48,  49,  50,  51,\n",
       "        52,  53,  54,  55,  56,  57,  58,  59,  60,  61,  62,  63,  64,\n",
       "        65,  66,  67,  68,  69,  70,  71,  72,  73,  74,  75,  76,  77,\n",
       "        78,  79,  80,  81,  82,  83,  84,  85,  86,  87,  88,  89,  90,\n",
       "        91,  92,  93,  94,  95,  96,  97,  98,  99, 100, 101, 102, 103,\n",
       "       104, 105, 106, 107, 108, 109, 110, 111, 112, 113, 114, 115, 116,\n",
       "       117, 118, 119, 120, 121, 122, 123, 124, 125, 126, 127, 128, 129,\n",
       "       130, 131, 132, 133, 134, 135, 136, 137, 138, 139, 140, 141, 142,\n",
       "       143, 144, 145, 146, 147, 148, 149, 150, 151, 152, 153, 154, 155,\n",
       "       156, 157, 158, 159, 160, 161, 162, 163, 164, 165, 166, 167, 168,\n",
       "       169, 170, 171, 172, 173, 174, 175, 176, 177, 178, 179, 180, 181,\n",
       "       182, 183, 184, 185, 186, 187, 188, 189, 190, 191, 192, 193, 194,\n",
       "       195, 196, 197, 198, 199, 200, 201, 202, 203, 204, 205, 206, 207,\n",
       "       208, 209, 210, 211, 212, 213, 214, 215, 216, 217, 218, 219, 220,\n",
       "       221, 222, 223, 224, 225, 226, 227, 228, 229, 230, 231, 232, 233,\n",
       "       234, 235, 236, 237, 238, 239, 240, 241, 242, 243, 244, 245, 246,\n",
       "       247, 248, 249, 250, 251, 252])"
      ]
     },
     "execution_count": 129,
     "metadata": {},
     "output_type": "execute_result"
    }
   ],
   "source": [
    "#Unique Cluster ID's\n",
    "\n",
    "labels_unique_ms = np.unique(ms.labels_)\n",
    "labels_unique_ms"
   ]
  },
  {
   "cell_type": "code",
   "execution_count": 130,
   "metadata": {},
   "outputs": [
    {
     "data": {
      "text/plain": [
       "253"
      ]
     },
     "execution_count": 130,
     "metadata": {},
     "output_type": "execute_result"
    }
   ],
   "source": [
    "#Total No of Clusters\n",
    "\n",
    "n_clusters = len(labels_unique_ms)\n",
    "n_clusters"
   ]
  },
  {
   "cell_type": "code",
   "execution_count": 85,
   "metadata": {},
   "outputs": [],
   "source": [
    "clusters_center = ms.cluster_centers_\n",
    "clusters_center\n",
    "#thanks to M.Uzair\n",
    "dic= {}\n",
    "labels = ms.labels_\n",
    "counter = 0\n",
    "for i in labels:\n",
    "    if(i not in dic):\n",
    "        dic[i] = [data[counter]]\n",
    "        \n",
    "    else:\n",
    "        dic[i].append(data[counter])\n",
    "        \n",
    "    counter += 1"
   ]
  },
  {
   "cell_type": "code",
   "execution_count": 86,
   "metadata": {},
   "outputs": [
    {
     "name": "stdout",
     "output_type": "stream",
     "text": [
      "2\n"
     ]
    }
   ],
   "source": [
    "#Printing Dictionary Data\n",
    "lenOfDic = len(dic)\n",
    "lenOfDic\n",
    "print(len(dic[3]))"
   ]
  },
  {
   "cell_type": "code",
   "execution_count": null,
   "metadata": {
    "scrolled": false
   },
   "outputs": [],
   "source": [
    "#print(dic) #id = integer and value = multiple list of string\n",
    "new_dic = {}\n",
    "string = \"\"\n",
    "count = 0\n",
    "for clus_id in dic:\n",
    "    jds = dic[clus_id]\n",
    "    length = len(jds)\n",
    "    for i in range(length):\n",
    "        string += jds[i]\n",
    "        string += \"\\n\"\n",
    "    new_dic[clus_id] = string\n",
    "    string = \"\"\n",
    "\n",
    "#print(new_dic[0])\n"
   ]
  },
  {
   "cell_type": "code",
   "execution_count": 116,
   "metadata": {},
   "outputs": [
    {
     "data": {
      "text/plain": [
       "2744"
      ]
     },
     "execution_count": 116,
     "metadata": {},
     "output_type": "execute_result"
    }
   ],
   "source": [
    "len(dic[0])"
   ]
  },
  {
   "cell_type": "code",
   "execution_count": 58,
   "metadata": {},
   "outputs": [],
   "source": [
    "#Yet Another Keyword Extractor - YAKE\n",
    "\n",
    "import yake\n",
    "\n"
   ]
  },
  {
   "cell_type": "code",
   "execution_count": 89,
   "metadata": {},
   "outputs": [
    {
     "name": "stdout",
     "output_type": "stream",
     "text": [
      "[('experience year experience', 3.435603072493373e-10), ('project management experience', 1.0524151979963528e-09), ('year experience working', 1.3301020156877953e-09), ('skill ability work', 1.5172286207980643e-09), ('year work experience', 1.6362550133710768e-09), ('software development experience', 1.6463680740083337e-09), ('year experience software', 1.8310194745586708e-09), ('communication skill ability', 1.8406769281695606e-09), ('experience software development', 1.872340162597713e-09), ('skill year experience', 1.887337996774935e-09), ('minimum year experience', 1.9496278742919894e-09), ('work experience year', 2.103756445762813e-09), ('year experience required', 2.454041021809309e-09), ('experience project management', 2.4656584638771694e-09), ('year related experience', 2.5576722599943773e-09), ('year experience business', 2.7375214127710527e-09), ('skill experience year', 2.75841707220952e-09), ('year experience data', 2.8848004475146605e-09), ('work experience experience', 2.9540624735766873e-09), ('written communication skill', 2.965593304610373e-09)]\n"
     ]
    }
   ],
   "source": [
    "#Keywords Extraction \n",
    "\n",
    "language = \"en\"\n",
    "max_ngram_size = 3\n",
    "deduplication_thresold = 0.9\n",
    "deduplication_algo = 'seqm'\n",
    "windowSize = 1\n",
    "numOfKeywords = 20\n",
    "\n",
    "all_keywords = []\n",
    "\n",
    "custom_kw_extractor = yake.KeywordExtractor(lan=language, n=max_ngram_size, dedupLim=deduplication_thresold, dedupFunc=deduplication_algo, windowsSize=windowSize, top=numOfKeywords, features=None)\n",
    "dic_kw = {}\n",
    "for i in range(len(new_dic)):\n",
    "    words = []\n",
    "    keywords = custom_kw_extractor.extract_keywords(new_dic[i])\n",
    "    for kw in keywords:\n",
    "           words.append(kw)\n",
    "    dic_kw[i] = words\n",
    "    #all_keywords.append(words)\n",
    "print(dic_kw[0])"
   ]
  },
  {
   "cell_type": "code",
   "execution_count": 96,
   "metadata": {},
   "outputs": [
    {
     "name": "stdout",
     "output_type": "stream",
     "text": [
      "[('bijon msrcosmos comdesk', 0.0016679095247590279), ('spyglasslocation hillsboro oravailability', 0.0025071920464883814), ('citizen party authorized', 0.0025071920464883814), ('encouraged apply unable', 0.0025071920464883814), ('apply unable sponsor', 0.0025071920464883814), ('unable sponsor skill', 0.0025071920464883814), ('sponsor skill setrtl', 0.0025071920464883814), ('experience yearsclock clock', 0.0025071920464883814), ('yearsclock clock gating', 0.0025071920464883814), ('clock gating reset', 0.0025071920464883814), ('gating reset expertiseexperience', 0.0025071920464883814), ('logical phy pipe', 0.0025071920464883814), ('phy pipe interface', 0.0025071920464883814), ('pipe interface familiarity', 0.0025071920464883814), ('avago semtek synopsystool', 0.0025071920464883814), ('semtek synopsystool expertise', 0.0025071920464883814), ('synopsystool expertise spyglass', 0.0025071920464883814), ('expertise spyglass dft', 0.0025071920464883814), ('txv cdc synthesisscripting', 0.0025071920464883814), ('cdc synthesisscripting perl', 0.0025071920464883814)]\n"
     ]
    }
   ],
   "source": [
    "#YAKE All Keywords Printing\n",
    "print (dic_kw[200])"
   ]
  },
  {
   "cell_type": "code",
   "execution_count": 97,
   "metadata": {},
   "outputs": [],
   "source": [
    "def get_keywords(integer,data_list):\n",
    "    specific_data = data_list[integer]\n",
    "    for words in specific_data:\n",
    "        print(words)"
   ]
  },
  {
   "cell_type": "code",
   "execution_count": 104,
   "metadata": {},
   "outputs": [
    {
     "name": "stdout",
     "output_type": "stream",
     "text": [
      "('work small team', 0.0030293741590090443)\n",
      "('small team design', 0.0030293741590090443)\n",
      "('team design develop', 0.0030293741590090443)\n",
      "('planning coordination obstacle', 0.0030293741590090443)\n",
      "('coordination obstacle avoidance', 0.0030293741590090443)\n",
      "('obstacle avoidance minimum', 0.0030293741590090443)\n",
      "('avoidance minimum qualification', 0.0030293741590090443)\n",
      "('computer science electrical', 0.0030293741590090443)\n",
      "('science electrical mechanical', 0.0030293741590090443)\n",
      "('electrical mechanical engineering', 0.0030293741590090443)\n",
      "('mechanical engineering strong', 0.0030293741590090443)\n",
      "('python java bonus', 0.0030293741590090443)\n",
      "('java bonus plc', 0.0030293741590090443)\n",
      "('planner coordinating system', 0.0030293741590090443)\n",
      "('contact monika allen', 0.0030293741590090443)\n",
      "('equal opportunity employer', 0.0030293741590090443)\n",
      "('opportunity employer eoe', 0.0030293741590090443)\n",
      "('engineer work small', 0.004146021868073351)\n",
      "('design develop autonomous', 0.004146021868073351)\n",
      "('navigation capability mobile', 0.004146021868073351)\n"
     ]
    }
   ],
   "source": [
    "get_keywords(4,dic_kw)"
   ]
  },
  {
   "cell_type": "code",
   "execution_count": null,
   "metadata": {},
   "outputs": [],
   "source": [
    "#Highlight Keywords in the Textual Data\n",
    "\n",
    "from yake.highlight import TextHighlighter\n",
    "\n",
    "th = TextHighlighter(max_ngram_size = 3)\n",
    "th.highlight(data[0], all_keywords[0])"
   ]
  },
  {
   "cell_type": "code",
   "execution_count": 135,
   "metadata": {},
   "outputs": [
    {
     "data": {
      "image/png": "[encoded data removed]",
      "text/plain": [
       "<Figure size 432x288 with 1 Axes>"
      ]
     },
     "metadata": {
      "needs_background": "light"
     },
     "output_type": "display_data"
    }
   ],
   "source": [
    "import matplotlib.pyplot as plt\n",
    "\n",
    "fig = plt.figure()\n",
    "ax = fig.add_subplot(111, projection='3d')\n",
    "ax.scatter(X[:,0], X[:,1], X[:,2], marker='o')\n",
    "#ax.scatter(cluster_centers[:,0], cluster_centers[:,1], cluster_centers[:,2], marker='x', color='red', s=300, linewidth=5, zorder=10)\n",
    "plt.show()\n"
   ]
  },
  {
   "cell_type": "code",
   "execution_count": 72,
   "metadata": {},
   "outputs": [
    {
     "data": {
      "text/plain": [
       "DBSCAN(algorithm='auto', eps=1, leaf_size=30, metric='euclidean',\n",
       "       metric_params=None, min_samples=1, n_jobs=None, p=None)"
      ]
     },
     "execution_count": 72,
     "metadata": {},
     "output_type": "execute_result"
    }
   ],
   "source": [
    "### DB SCAN\n",
    "\n",
    "from sklearn.cluster import DBSCAN\n",
    "import numpy as np\n",
    "\n",
    "clustering = DBSCAN(eps=1, min_samples=1).fit(X)\n",
    "clustering"
   ]
  },
  {
   "cell_type": "code",
   "execution_count": 71,
   "metadata": {},
   "outputs": [
    {
     "data": {
      "text/plain": [
       "array([0, 0, 0, 0, 0, 0, 0, 0, 0, 0, 0, 0, 0, 0, 0, 0, 0, 0, 0, 0, 0, 0,\n",
       "       0, 0, 0, 0, 0, 0, 0, 0, 0, 0, 0, 0, 0, 0, 0, 0, 0, 0, 0, 0, 0, 0,\n",
       "       0, 0, 0, 0, 0, 0, 0, 0, 0, 0, 0, 0, 0, 0, 0, 0, 0, 0, 0, 0, 0, 0,\n",
       "       0, 0, 0, 0, 0, 0, 0, 0, 0, 0, 0, 0, 0, 0, 0, 0, 0, 0, 0, 0, 0, 0,\n",
       "       0, 0, 0, 0, 0, 0, 0, 0, 0, 0, 0, 0, 0, 0, 0, 0, 0, 0, 0, 0, 0, 0,\n",
       "       0, 0, 0, 0, 0, 0, 0, 0, 0, 0, 0, 0, 0, 0, 0, 0, 0, 0, 0, 0, 0, 0,\n",
       "       0, 0, 0, 0, 0, 0, 0, 0, 0, 0, 0, 0, 0, 0, 0, 0, 0, 0, 0, 0, 0, 0,\n",
       "       0, 0, 0, 0, 0, 0, 0, 0, 0, 0, 0, 0, 0, 0, 0, 0, 0, 0, 0, 0, 0, 0,\n",
       "       0, 0, 0, 0, 0, 0, 0, 0, 0, 0, 0, 0, 0, 0, 0, 0, 0, 0, 0, 0, 0, 0,\n",
       "       0, 0, 0, 0, 0, 0, 0, 0, 0, 0, 0, 0, 0, 0, 0, 0, 0, 0, 0, 0, 0, 0,\n",
       "       0, 0, 0, 0, 0, 0, 0, 0, 0, 0, 0, 0, 0, 0, 0, 0, 0, 0, 0, 0, 0, 0,\n",
       "       0, 0, 0, 0, 0, 0, 0, 0, 0, 0, 0, 0, 0, 0, 0, 0, 0, 0, 0, 0, 0, 0,\n",
       "       0, 0, 0, 0, 0, 0, 0, 0, 0, 0, 0, 0, 0, 0, 0, 0, 0, 0, 0, 0, 0, 0,\n",
       "       0, 0, 0, 0, 0, 0, 0, 0, 0, 0, 0, 0, 0, 0, 0, 0, 0, 0, 0, 0, 0, 0,\n",
       "       0, 0, 0, 0, 0, 0, 0, 0, 0, 0, 0, 0, 0, 0, 0, 0, 0, 0, 0, 0, 0, 0,\n",
       "       0, 0, 0, 0, 0, 0, 0, 0, 0, 0, 0, 0, 0, 0, 0, 0, 0, 0, 0, 0, 0, 0,\n",
       "       0, 0, 0, 0, 0, 0, 0, 0, 0, 0, 0, 0, 0, 0, 0, 0, 0, 0, 0, 0, 0, 0,\n",
       "       0, 0, 0, 0, 0, 0, 0, 0, 0, 0, 0, 0, 0, 0, 0, 0, 0, 0, 0, 0, 0, 0,\n",
       "       0, 0, 0, 0, 0, 0, 0, 0, 0, 0, 0, 0, 0, 0, 0, 0, 0, 0, 0, 0, 0, 0,\n",
       "       0, 0, 0, 0, 0, 0, 0, 0, 0, 0, 0, 0, 0, 0, 0, 0, 0, 0, 0, 0, 0, 0,\n",
       "       0, 0, 0, 0, 0, 0, 0, 0, 0, 0, 0, 0, 0, 0, 0, 0, 0, 0, 0, 0, 0, 0,\n",
       "       0, 0, 0, 0, 0, 0, 0, 0, 0, 0, 0, 0, 0, 0, 0, 0, 0, 0, 0, 0, 0, 0,\n",
       "       0, 0, 0, 0, 0, 0, 0, 0, 0, 0, 0, 0, 0, 0, 0, 0, 0, 0, 0, 0, 0, 0,\n",
       "       0, 0, 0, 0, 0, 0, 0, 0, 0, 0, 0, 0, 0, 0, 0, 0, 0, 0, 0, 0, 0, 0,\n",
       "       0, 0, 0, 0, 0, 0, 0, 0, 0, 0, 0, 0, 0, 0, 0, 0, 0, 0, 0, 0, 0, 0,\n",
       "       0, 0, 0, 0, 0, 0, 0, 0, 0, 0, 0, 0, 0, 0, 0, 0, 0, 0, 0, 0, 0, 0,\n",
       "       0, 0, 0, 0, 0, 0, 0, 0, 0, 0, 0, 0, 0, 0, 0, 0, 0, 0, 0, 0, 0, 0,\n",
       "       0, 0, 0, 0, 0, 0, 0, 0, 0, 0, 0, 0, 0, 0, 0, 0, 0, 0, 0, 0, 0, 0,\n",
       "       0, 0, 0, 0, 0, 0, 0, 0, 0, 0, 0, 0, 0, 0, 0, 0, 0, 0, 0, 0, 0, 0,\n",
       "       0, 0, 0, 0, 0, 0, 0, 0, 0, 0, 0, 0, 0, 0, 0, 0, 0, 0, 0, 0, 0, 0,\n",
       "       0, 0, 0, 0, 0, 0, 0, 0, 0, 0, 0, 0, 0, 0, 0, 0, 0, 0, 0, 0, 0, 0,\n",
       "       0, 0, 0, 0, 0, 0, 0, 0, 0, 0, 0, 0, 0, 0, 0, 0, 0, 0, 0, 0, 0, 0,\n",
       "       0, 0, 0, 0, 0, 0, 0, 0, 0, 0, 0, 0, 0, 0, 0, 0, 0, 0, 0, 0, 0, 0,\n",
       "       0, 0, 0, 0, 0, 0, 0, 0, 0, 0, 0, 0, 0, 0, 0, 0, 0, 0, 0, 0, 0, 0,\n",
       "       0, 0, 0, 0, 0, 0, 0, 0, 0, 0, 0, 0, 0, 0, 0, 0, 0, 0, 0, 0, 0, 0,\n",
       "       0, 0, 0, 0, 0, 0, 0, 0, 0, 0, 0, 0, 0, 0, 0, 0, 0, 0, 0, 0, 0, 0,\n",
       "       0, 0, 0, 0, 0, 0, 0, 0, 0, 0, 0, 0, 0, 0, 0, 0, 0, 0, 0, 0, 0, 0,\n",
       "       0, 0, 0, 0, 0, 0, 0, 0, 0, 0, 0, 0, 0, 0, 0, 0, 0, 0, 0, 0, 0, 0,\n",
       "       0, 0, 0, 0, 0, 0, 0, 0, 0, 0, 0, 0, 0, 0, 0, 0, 0, 0, 0, 0, 0, 0,\n",
       "       0, 0, 0, 0, 0, 0, 0, 0, 0, 0, 0, 0, 0, 0, 0, 0, 0, 0, 0, 0, 0, 0,\n",
       "       0, 0, 0, 0, 0, 0, 0, 0, 0, 0, 0, 0, 0, 0, 0, 0, 0, 0, 0, 0, 0, 0,\n",
       "       0, 0, 0, 0, 0, 0, 0, 0, 0, 0, 0, 0, 0, 0, 0, 0, 0, 0, 0, 0, 0, 0,\n",
       "       0, 0, 0, 0, 0, 0, 0, 0, 0, 0, 0, 0, 0, 0, 0, 0, 0, 0, 0, 0, 0, 0,\n",
       "       0, 0, 0, 0, 0, 0, 0, 0, 0, 0, 0, 0, 0, 0, 0, 0, 0, 0, 0, 0, 0, 0,\n",
       "       0, 0, 0, 0, 0, 0, 0, 0, 0, 0, 0, 0, 0, 0, 0, 0, 0, 0, 0, 0, 0, 0,\n",
       "       0, 0, 0, 0, 0, 0, 0, 0, 0])"
      ]
     },
     "execution_count": 71,
     "metadata": {},
     "output_type": "execute_result"
    }
   ],
   "source": [
    "clustering.labels_"
   ]
  },
  {
   "cell_type": "code",
   "execution_count": null,
   "metadata": {},
   "outputs": [],
   "source": []
  }
 ],
 "metadata": {
  "kernelspec": {
   "display_name": "Python 3",
   "language": "python",
   "name": "python3"
  },
  "language_info": {
   "codemirror_mode": {
    "name": "ipython",
    "version": 3
   },
   "file_extension": ".py",
   "mimetype": "text/x-python",
   "name": "python",
   "nbconvert_exporter": "python",
   "pygments_lexer": "ipython3",
   "version": "3.7.9"
  }
 },
 "nbformat": 4,
 "nbformat_minor": 4
}
