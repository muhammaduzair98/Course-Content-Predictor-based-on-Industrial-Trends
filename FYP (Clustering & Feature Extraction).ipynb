{
 "cells": [
  {
   "cell_type": "code",
   "execution_count": 67,
   "metadata": {},
   "outputs": [],
   "source": [
    "import pandas as pd \n",
    "import numpy as np\n",
    "import re\n",
    "import nltk\n",
    "import matplotlib.pyplot as plt\n",
    "%matplotlib inline\n",
    "\n",
    "\n",
    "import seaborn as sns\n",
    "sns.set(color_codes=True)\n",
    "\n",
    "import datetime\n",
    "\n",
    "from nltk.corpus import stopwords\n",
    "from nltk.stem.porter import PorterStemmer\n",
    "from nltk.stem import WordNetLemmatizer\n",
    "\n",
    "dataset = pd.read_csv(\"./Desktop/FYP/testdata3.csv\")"
   ]
  },
  {
   "cell_type": "code",
   "execution_count": 3,
   "metadata": {},
   "outputs": [],
   "source": [
    "type(dataset.values)\n",
    "corpus = dataset.head(1)\n",
    "#print(corpus)"
   ]
  },
  {
   "cell_type": "code",
   "execution_count": 4,
   "metadata": {},
   "outputs": [],
   "source": [
    "JD = dataset[\"jobdescription\"]\n",
    "corpus = \"\"\n",
    "for i in JD:\n",
    "    corpus += str(i)\n",
    "    #corpus.append(str(i))\n",
    "    #print (type(i))\n",
    "#corpus\n",
    "#print(type(JD))"
   ]
  },
  {
   "cell_type": "code",
   "execution_count": 5,
   "metadata": {},
   "outputs": [],
   "source": [
    "#Import Lib & Creating Objects\n",
    "import re\n",
    "import nltk\n",
    "\n",
    "from nltk.corpus import stopwords\n",
    "from nltk.stem.porter import PorterStemmer\n",
    "from nltk.stem import WordNetLemmatizer\n",
    "\n",
    "data = []\n",
    "\n",
    "lemmatizer = WordNetLemmatizer()\n",
    "ps = PorterStemmer()"
   ]
  },
  {
   "cell_type": "code",
   "execution_count": 6,
   "metadata": {},
   "outputs": [],
   "source": [
    "#Cleaning Dataset\n",
    "for i in range (0, len(JD)):\n",
    "    review = re.sub('[^a-zA-Z]', ' ', JD[i])\n",
    "    review = review.lower()\n",
    "    review = review.split()\n",
    "    review = [lemmatizer.lemmatize(word) \n",
    "               for word in review \n",
    "                  if not word in stopwords.words('english')]\n",
    "    review = ' '.join(review)\n",
    "    #print (type(review))\n",
    "    data.append(review)   "
   ]
  },
  {
   "cell_type": "code",
   "execution_count": 8,
   "metadata": {},
   "outputs": [
    {
     "name": "stdout",
     "output_type": "stream",
     "text": [
      "<class 'list'>\n"
     ]
    }
   ],
   "source": [
    "#Printing Clean Data\n",
    "\n",
    "print(type(data))\n",
    "#data[99]"
   ]
  },
  {
   "cell_type": "code",
   "execution_count": 9,
   "metadata": {},
   "outputs": [
    {
     "data": {
      "text/plain": [
       "<149x4285 sparse matrix of type '<class 'numpy.float64'>'\n",
       "\twith 23413 stored elements in Compressed Sparse Row format>"
      ]
     },
     "execution_count": 9,
     "metadata": {},
     "output_type": "execute_result"
    }
   ],
   "source": [
    "#TF-IDF Vectorization\n",
    "\n",
    "from sklearn.feature_extraction.text import TfidfVectorizer\n",
    "tfidf = TfidfVectorizer()\n",
    "matrix_input = tfidf.fit_transform(data)\n",
    "matrix_input"
   ]
  },
  {
   "cell_type": "code",
   "execution_count": 10,
   "metadata": {},
   "outputs": [
    {
     "data": {
      "text/plain": [
       "array([[0.        , 0.        , 0.06246661, ..., 0.        , 0.        ,\n",
       "        0.        ],\n",
       "       [0.        , 0.        , 0.        , ..., 0.        , 0.        ,\n",
       "        0.        ],\n",
       "       [0.        , 0.        , 0.        , ..., 0.        , 0.        ,\n",
       "        0.        ],\n",
       "       ...,\n",
       "       [0.        , 0.        , 0.        , ..., 0.        , 0.        ,\n",
       "        0.        ],\n",
       "       [0.        , 0.        , 0.        , ..., 0.        , 0.        ,\n",
       "        0.        ],\n",
       "       [0.        , 0.        , 0.        , ..., 0.16695189, 0.        ,\n",
       "        0.        ]])"
      ]
     },
     "execution_count": 10,
     "metadata": {},
     "output_type": "execute_result"
    }
   ],
   "source": [
    "#Resultant Matrix Conversion Into Array Format\n",
    "\n",
    "X = matrix_input.toarray()\n",
    "X"
   ]
  },
  {
   "cell_type": "code",
   "execution_count": null,
   "metadata": {},
   "outputs": [],
   "source": [
    "#Mean Shift Clustering\n",
    "\n",
    "from sklearn.cluster import MeanShift, estimate_bandwidth\n",
    "import numpy as np\n",
    "\n",
    "#bandwidth = estimate_bandwidth(X,quantile=1, n_samples=10)\n",
    "ms = MeanShift(bandwidth=1, bin_seeding=False).fit(X)\n",
    "ms"
   ]
  },
  {
   "cell_type": "code",
   "execution_count": null,
   "metadata": {},
   "outputs": [],
   "source": [
    "#Cluster ID's\n",
    "\n",
    "print(ms.labels_)"
   ]
  },
  {
   "cell_type": "code",
   "execution_count": null,
   "metadata": {},
   "outputs": [],
   "source": [
    "#Unique Cluster ID's\n",
    "\n",
    "labels_unique_ms = np.unique(ms.labels_)\n",
    "labels_unique_ms"
   ]
  },
  {
   "cell_type": "code",
   "execution_count": null,
   "metadata": {},
   "outputs": [],
   "source": [
    "#Total No of Clusters\n",
    "\n",
    "n_clusters = len(labels_unique_ms)\n",
    "n_clusters"
   ]
  },
  {
   "cell_type": "code",
   "execution_count": null,
   "metadata": {},
   "outputs": [],
   "source": [
    "clusters_center = ms.cluster_centers_\n",
    "clusters_center\n",
    "dic= {}\n",
    "labels = ms.labels_\n",
    "counter = 0\n",
    "for i in labels:\n",
    "    if(i not in dic):\n",
    "        dic[i] = [data[counter]]\n",
    "    else:\n",
    "        dic[i].append(data[counter])\n",
    "        \n",
    "    counter += 1"
   ]
  },
  {
   "cell_type": "code",
   "execution_count": null,
   "metadata": {},
   "outputs": [],
   "source": [
    "#Printing Dictionary Data\n",
    "lenOfDic = len(dic)\n",
    "lenOfDic\n",
    "print(len(dic[3]))"
   ]
  },
  {
   "cell_type": "code",
   "execution_count": null,
   "metadata": {
    "scrolled": false
   },
   "outputs": [],
   "source": [
    "#print(dic) #id = integer and value = multiple list of string #Merge JDS In Specific Cluster\n",
    "new_dic = {}\n",
    "string = \"\"\n",
    "count = 0\n",
    "for clus_id in dic:\n",
    "    jds = dic[clus_id]\n",
    "    length = len(jds)\n",
    "    for i in range(length):\n",
    "        string += jds[i]\n",
    "        string += \"\\n\"\n",
    "    new_dic[clus_id] = string\n",
    "    string = \"\"\n",
    "\n",
    "print(new_dic[0])\n"
   ]
  },
  {
   "cell_type": "code",
   "execution_count": null,
   "metadata": {},
   "outputs": [],
   "source": [
    "len(dic[2])"
   ]
  },
  {
   "cell_type": "code",
   "execution_count": null,
   "metadata": {},
   "outputs": [],
   "source": [
    "#Yet Another Keyword Extractor - YAKE\n",
    "\n",
    "import yake\n",
    "\n"
   ]
  },
  {
   "cell_type": "code",
   "execution_count": null,
   "metadata": {},
   "outputs": [],
   "source": [
    "#Keywords Extraction \n",
    "\n",
    "language = \"en\"\n",
    "max_ngram_size = 3\n",
    "deduplication_thresold = 0.9\n",
    "deduplication_algo = 'seqm'\n",
    "windowSize = 1\n",
    "numOfKeywords = 20\n",
    "\n",
    "all_keywords = []\n",
    "\n",
    "custom_kw_extractor = yake.KeywordExtractor(lan=language, n=max_ngram_size, dedupLim=deduplication_thresold, dedupFunc=deduplication_algo, windowsSize=windowSize, top=numOfKeywords, features=None)\n",
    "dic_kw = {}\n",
    "for i in range(len(new_dic)):\n",
    "    words = []\n",
    "    keywords = custom_kw_extractor.extract_keywords(new_dic[i])\n",
    "    for kw in keywords:\n",
    "           words.append(kw)\n",
    "    dic_kw[i] = words\n",
    "    #all_keywords.append(words)\n",
    "print(dic_kw[0])"
   ]
  },
  {
   "cell_type": "code",
   "execution_count": null,
   "metadata": {
    "scrolled": false
   },
   "outputs": [],
   "source": [
    "#YAKE All Keywords Printing\n",
    "print (dic_kw[200])"
   ]
  },
  {
   "cell_type": "code",
   "execution_count": null,
   "metadata": {},
   "outputs": [],
   "source": [
    "def get_keywords(integer,data_list):\n",
    "    specific_data = data_list[integer]\n",
    "    for words in specific_data:\n",
    "        print(words)"
   ]
  },
  {
   "cell_type": "code",
   "execution_count": null,
   "metadata": {
    "scrolled": true
   },
   "outputs": [],
   "source": [
    "get_keywords(251,dic_kw)"
   ]
  },
  {
   "cell_type": "code",
   "execution_count": null,
   "metadata": {},
   "outputs": [],
   "source": [
    "#Highlight Keywords in the Textual Data\n",
    "\n",
    "from yake.highlight import TextHighlighter\n",
    "\n",
    "th = TextHighlighter(max_ngram_size = 3)\n",
    "th.highlight(data[0], all_keywords[0])"
   ]
  },
  {
   "cell_type": "code",
   "execution_count": 112,
   "metadata": {},
   "outputs": [
    {
     "data": {
      "image/png": "[encoded data removed]",
      "text/plain": [
       "<Figure size 432x288 with 1 Axes>"
      ]
     },
     "metadata": {},
     "output_type": "display_data"
    }
   ],
   "source": [
    "import matplotlib.pyplot as plt\n",
    "\n",
    "fig = plt.figure()\n",
    "ax = fig.add_subplot(111, projection='3d')\n",
    "ax.scatter(X[:,0], X[:,1], X[:,2], marker='o')\n",
    "#ax.scatter(cluster_centers[:,0], cluster_centers[:,1], cluster_centers[:,2], marker='x', color='red', s=300, linewidth=5, zorder=10)\n",
    "plt.show()\n"
   ]
  },
  {
   "cell_type": "code",
   "execution_count": null,
   "metadata": {},
   "outputs": [],
   "source": [
    "### DB SCAN\n",
    "\n",
    "from sklearn.cluster import DBSCAN\n",
    "import numpy as np\n",
    "\n",
    "clustering = DBSCAN(eps=1, min_samples=1).fit(X)\n",
    "clustering"
   ]
  },
  {
   "cell_type": "code",
   "execution_count": null,
   "metadata": {},
   "outputs": [],
   "source": [
    "clustering.labels_"
   ]
  },
  {
   "cell_type": "code",
   "execution_count": 11,
   "metadata": {},
   "outputs": [],
   "source": [
    "from sklearn.cluster import KMeans\n",
    "\n",
    "km = KMeans(n_clusters=10)"
   ]
  },
  {
   "cell_type": "code",
   "execution_count": 12,
   "metadata": {},
   "outputs": [
    {
     "data": {
      "text/plain": [
       "KMeans(algorithm='auto', copy_x=True, init='k-means++', max_iter=300,\n",
       "       n_clusters=10, n_init=10, n_jobs=None, precompute_distances='auto',\n",
       "       random_state=None, tol=0.0001, verbose=0)"
      ]
     },
     "execution_count": 12,
     "metadata": {},
     "output_type": "execute_result"
    }
   ],
   "source": [
    "km"
   ]
  },
  {
   "cell_type": "code",
   "execution_count": 13,
   "metadata": {},
   "outputs": [
    {
     "data": {
      "text/plain": [
       "KMeans(algorithm='auto', copy_x=True, init='k-means++', max_iter=300,\n",
       "       n_clusters=10, n_init=10, n_jobs=None, precompute_distances='auto',\n",
       "       random_state=None, tol=0.0001, verbose=0)"
      ]
     },
     "execution_count": 13,
     "metadata": {},
     "output_type": "execute_result"
    }
   ],
   "source": [
    "km.fit(X)"
   ]
  },
  {
   "cell_type": "code",
   "execution_count": 14,
   "metadata": {},
   "outputs": [
    {
     "name": "stdout",
     "output_type": "stream",
     "text": [
      "[[0.         0.         0.06246661 ... 0.         0.         0.        ]\n",
      " [0.         0.         0.         ... 0.         0.         0.        ]\n",
      " [0.         0.         0.         ... 0.         0.         0.        ]\n",
      " ...\n",
      " [0.         0.         0.         ... 0.         0.         0.        ]\n",
      " [0.         0.         0.         ... 0.         0.         0.        ]\n",
      " [0.         0.         0.         ... 0.16695189 0.         0.        ]]\n"
     ]
    }
   ],
   "source": [
    "print(X)"
   ]
  },
  {
   "cell_type": "code",
   "execution_count": 29,
   "metadata": {},
   "outputs": [
    {
     "name": "stdout",
     "output_type": "stream",
     "text": [
      "[6 4 6 6 6 7 4 6 6 1 6 4 3 7 3 4 6 3 7 6 7 7 4 7 3 7 1 9 4 5 5 7 7 8 3 3 8\n",
      " 6 3 1 4 4 6 7 7 2 2 6 4 2 6 6 1 7 6 5 7 5 6 4 6 3 8 6 3 8 4 4 6 6 7 6 4 7\n",
      " 5 5 3 5 3 7 4 6 3 6 6 6 6 6 3 4 5 8 5 5 4 4 0 9 2 6 6 6 6 6 4 0 6 6 1 2 0\n",
      " 0 6 2 4 4 6 1 4 6 5 9 0 0 2 6 9 2 9 2 0 0 0 4 6 0 7 8 0 4 6 0 0 6 2 2 6 2\n",
      " 6]\n"
     ]
    }
   ],
   "source": [
    "km_Labels = km.labels_\n",
    "print(km_Labels)"
   ]
  },
  {
   "cell_type": "code",
   "execution_count": 31,
   "metadata": {},
   "outputs": [
    {
     "name": "stdout",
     "output_type": "stream",
     "text": [
      "[0 1 2 3 4 5 6 7 8 9]\n"
     ]
    },
    {
     "data": {
      "text/plain": [
       "149"
      ]
     },
     "execution_count": 31,
     "metadata": {},
     "output_type": "execute_result"
    }
   ],
   "source": [
    "unique_labels_km = np.unique(km.labels_)\n",
    "print (unique_labels_km)\n",
    "\n",
    "clus = len(km_Labels)\n"
   ]
  },
  {
   "cell_type": "code",
   "execution_count": 32,
   "metadata": {},
   "outputs": [],
   "source": [
    "dicKM= {}\n",
    "labels = km.labels_\n",
    "counter = 0\n",
    "for i in labels:\n",
    "    if(i not in dicKM):\n",
    "        dicKM[i] = [data[counter]]\n",
    "    else:\n",
    "        dicKM[i].append(data[counter])\n",
    "        \n",
    "    counter += 1"
   ]
  },
  {
   "cell_type": "code",
   "execution_count": 111,
   "metadata": {},
   "outputs": [],
   "source": [
    "# print(dicKM[0]) "
   ]
  },
  {
   "cell_type": "code",
   "execution_count": 124,
   "metadata": {},
   "outputs": [
    {
     "ename": "TypeError",
     "evalue": "scatter() missing 1 required positional argument: 'y'",
     "output_type": "error",
     "traceback": [
      "\u001b[0;31m---------------------------------------------------------------------------\u001b[0m",
      "\u001b[0;31mTypeError\u001b[0m                                 Traceback (most recent call last)",
      "\u001b[0;32m<ipython-input-124-4611ae81cd01>\u001b[0m in \u001b[0;36m<module>\u001b[0;34m\u001b[0m\n\u001b[1;32m      4\u001b[0m \u001b[0;31m# print(len(X))\u001b[0m\u001b[0;34m\u001b[0m\u001b[0;34m\u001b[0m\u001b[0;34m\u001b[0m\u001b[0m\n\u001b[1;32m      5\u001b[0m \u001b[0;34m\u001b[0m\u001b[0m\n\u001b[0;32m----> 6\u001b[0;31m \u001b[0mplt\u001b[0m\u001b[0;34m.\u001b[0m\u001b[0mscatter\u001b[0m\u001b[0;34m(\u001b[0m\u001b[0mkm_Labels\u001b[0m\u001b[0;34m)\u001b[0m\u001b[0;34m\u001b[0m\u001b[0;34m\u001b[0m\u001b[0m\n\u001b[0m\u001b[1;32m      7\u001b[0m \u001b[0mplt\u001b[0m\u001b[0;34m.\u001b[0m\u001b[0mshow\u001b[0m\u001b[0;34m(\u001b[0m\u001b[0;34m)\u001b[0m\u001b[0;34m\u001b[0m\u001b[0;34m\u001b[0m\u001b[0m\n",
      "\u001b[0;31mTypeError\u001b[0m: scatter() missing 1 required positional argument: 'y'"
     ]
    }
   ],
   "source": [
    "import matplotlib.pyplot as plt\n",
    "\n",
    "# print(len(km_Labels))\n",
    "# print(len(X))\n",
    "\n",
    "plt.scatter(km_Labels)\n",
    "plt.show()"
   ]
  },
  {
   "cell_type": "code",
   "execution_count": 95,
   "metadata": {
    "scrolled": true
   },
   "outputs": [],
   "source": [
    "#print(new_dicKM)"
   ]
  },
  {
   "cell_type": "code",
   "execution_count": 38,
   "metadata": {},
   "outputs": [],
   "source": [
    "#print(dic) #id = integer and value = multiple list of string\n",
    "new_dicKM = {}\n",
    "string_KM = \"\"\n",
    "count_KM = 0\n",
    "for clus_id in dicKM:\n",
    "    jds = dicKM[clus_id]\n",
    "    length = len(jds)\n",
    "    for i in range(length):\n",
    "        string_KM += jds[i]\n",
    "        string_KM += \"\\n\"\n",
    "        #print(string)\n",
    "    new_dicKM[clus_id] = string_KM\n",
    "    string_KM = \"\"\n",
    "\n",
    "#print(new_dic[0])"
   ]
  },
  {
   "cell_type": "code",
   "execution_count": 63,
   "metadata": {},
   "outputs": [],
   "source": [
    "#print(new_dicKM[0])"
   ]
  },
  {
   "cell_type": "code",
   "execution_count": 46,
   "metadata": {},
   "outputs": [
    {
     "name": "stdout",
     "output_type": "stream",
     "text": [
      "[('consultant princeton information', 4.532882697898727e-07), ('success client consultant', 6.737106803151171e-07), ('princeton information committed', 6.991481759530014e-07), ('commitment consultant princeton', 7.717747051744613e-07), ('company princeton information', 9.288633637071017e-07), ('princeton information service', 9.416343110333903e-07), ('committed ensure consultant', 1.0123396480282291e-06), ('committed success client', 1.039212685151903e-06), ('relationship relationship client', 1.113817646028644e-06), ('information committed ensure', 1.1540080371243064e-06), ('client consultant shareholder', 1.1795362418804424e-06), ('princeton information operates', 1.2208256268472009e-06), ('million princeton information', 1.242224393133662e-06), ('princeton information solely', 1.242224393133662e-06), ('client opportunity work', 1.511376718994142e-06), ('held company princeton', 1.5665241092573969e-06), ('organization ensures princeton', 1.605288426338491e-06), ('consultant privately held', 1.6207737385062778e-06), ('ensures princeton inside', 1.6308056270438118e-06), ('commitment consultant privately', 1.636687812113766e-06)]\n"
     ]
    }
   ],
   "source": [
    "#Yet Another Keyword Extractor - YAKE\n",
    "\n",
    "import yake\n",
    "\n",
    "#Keywords Extraction \n",
    "\n",
    "language = \"en\"\n",
    "max_ngram_size = 3\n",
    "deduplication_thresold = 0.9\n",
    "deduplication_algo = 'seqm'\n",
    "windowSize = 1\n",
    "numOfKeywords = 20\n",
    "\n",
    "all_keywords = []\n",
    "\n",
    "custom_kw_extractor = yake.KeywordExtractor(lan=language, n=max_ngram_size, dedupLim=deduplication_thresold, dedupFunc=deduplication_algo, windowsSize=windowSize, top=numOfKeywords, features=None)\n",
    "dic_kw = {}\n",
    "for i in range(len(new_dicKM)):\n",
    "    words = []\n",
    "    keywords = custom_kw_extractor.extract_keywords(new_dicKM[i])\n",
    "    for kw in keywords:\n",
    "           words.append(kw)\n",
    "    dic_kw[i] = words\n",
    "    #all_keywords.append(words)\n"
   ]
  },
  {
   "cell_type": "code",
   "execution_count": 49,
   "metadata": {},
   "outputs": [],
   "source": [
    "#YAKE All Keywords Printing\n",
    "#print (dic_kw)"
   ]
  },
  {
   "cell_type": "code",
   "execution_count": 60,
   "metadata": {},
   "outputs": [],
   "source": [
    "def get_keywords(integer,data_list):\n",
    "    specific_data = data_list[integer]\n",
    "    for words in specific_data:\n",
    "        print(words)"
   ]
  },
  {
   "cell_type": "code",
   "execution_count": 61,
   "metadata": {},
   "outputs": [
    {
     "name": "stdout",
     "output_type": "stream",
     "text": [
      "('solution million medium', 7.158329019316532e-05)\n",
      "('million medium file', 7.299072506811104e-05)\n",
      "('management solution million', 8.454776028394577e-05)\n",
      "('medium file process', 8.628739825789062e-05)\n",
      "('video publishing management', 8.974575006092316e-05)\n",
      "('high profile medium', 9.042840009593786e-05)\n",
      "('medium company rely', 9.310420013301877e-05)\n",
      "('file process million', 9.337233721847489e-05)\n",
      "('process million hit', 9.337233721847489e-05)\n",
      "('sport network nbc', 9.388009183347023e-05)\n",
      "('network nbc sport', 9.388009183347023e-05)\n",
      "('fox sport network', 9.388009183347025e-05)\n",
      "('syfy fox sport', 9.448355527626735e-05)\n",
      "('nbc sport national', 9.448355527626735e-05)\n",
      "('sport national geographic', 9.448355527626735e-05)\n",
      "('billion internet video', 9.460596917115508e-05)\n",
      "('internet video view', 9.460596917115508e-05)\n",
      "('day medium company', 9.636954804285209e-05)\n",
      "('publishing management solution', 9.728818424103457e-05)\n",
      "('supporting streaming video', 9.785839096074889e-05)\n"
     ]
    }
   ],
   "source": [
    "get_keywords(1,dic_kw)"
   ]
  },
  {
   "cell_type": "code",
   "execution_count": 85,
   "metadata": {},
   "outputs": [],
   "source": [
    "#plot libs \n",
    "\n",
    "data1 = len(dicKM[0])\n",
    "data2 = len(dicKM[1])"
   ]
  },
  {
   "cell_type": "code",
   "execution_count": 89,
   "metadata": {},
   "outputs": [
    {
     "data": {
      "text/plain": [
       "<matplotlib.collections.PathCollection at 0x7fdfabf19ad0>"
      ]
     },
     "execution_count": 89,
     "metadata": {},
     "output_type": "execute_result"
    },
    {
     "data": {
      "image/png": "[encoded data removed]",
      "text/plain": [
       "<Figure size 432x288 with 1 Axes>"
      ]
     },
     "metadata": {},
     "output_type": "display_data"
    }
   ],
   "source": [
    "from sklearn.cluster import KMeans\n",
    "import numpy as np\n",
    "\n",
    "\n",
    "plt.scatter(data1,data2 , alpha = 0.6, s = 10)\n",
    "\n"
   ]
  },
  {
   "cell_type": "code",
   "execution_count": null,
   "metadata": {},
   "outputs": [],
   "source": []
  }
 ],
 "metadata": {
  "kernelspec": {
   "display_name": "Python 3",
   "language": "python",
   "name": "python3"
  },
  "language_info": {
   "codemirror_mode": {
    "name": "ipython",
    "version": 3
   },
   "file_extension": ".py",
   "mimetype": "text/x-python",
   "name": "python",
   "nbconvert_exporter": "python",
   "pygments_lexer": "ipython3",
   "version": "3.7.9"
  }
 },
 "nbformat": 4,
 "nbformat_minor": 4
}
